{
  "nbformat": 4,
  "nbformat_minor": 0,
  "metadata": {
    "colab": {
      "name": "classification of home appliances.ipynb",
      "provenance": [],
      "mount_file_id": "1FjtCqo3RitsJjWORJEnq1bfCY49ripMg",
      "authorship_tag": "ABX9TyMrCthfJJ3Jse9k90Dk+VhZ",
      "include_colab_link": true
    },
    "kernelspec": {
      "name": "python3",
      "display_name": "Python 3"
    },
    "language_info": {
      "name": "python"
    }
  },
  "cells": [
    {
      "cell_type": "markdown",
      "metadata": {
        "id": "view-in-github",
        "colab_type": "text"
      },
      "source": [
        "<a href=\"https://colab.research.google.com/github/Ganeshgani-25/projects/blob/main/classification_of_home_appliances.ipynb\" target=\"_parent\"><img src=\"https://colab.research.google.com/assets/colab-badge.svg\" alt=\"Open In Colab\"/></a>"
      ]
    },
    {
      "cell_type": "markdown",
      "metadata": {
        "id": "SyxFsaC7BmsO"
      },
      "source": [
        "IMPORTING HEADER FILES"
      ]
    },
    {
      "cell_type": "code",
      "metadata": {
        "id": "lWGXghrXEflG"
      },
      "source": [
        "import numpy as np\n",
        "import pandas as pd\n",
        "import matplotlib.pyplot as plt\n",
        "from skimage.transform import resize\n",
        "from skimage.io import imread,imshow\n",
        "import os\n",
        "from sklearn.model_selection import train_test_split\n",
        "from sklearn.metrics import accuracy_score\n",
        "from sklearn import svm\n"
      ],
      "execution_count": 63,
      "outputs": []
    },
    {
      "cell_type": "markdown",
      "metadata": {
        "id": "Q1Iu447UBnG9"
      },
      "source": [
        "IMPORTING IMAGES FOR TRAINING"
      ]
    },
    {
      "cell_type": "code",
      "metadata": {
        "id": "ZcFSAxOqEoSU"
      },
      "source": [
        "category=['hair_dryer','iron_box','mixer_grinder','refrigerator']\n",
        "path='/content/drive/MyDrive/minor'\n",
        "img_flat=[]\n",
        "target=[]\n",
        "for folder in os.listdir(path):\n",
        "  index=category.index(folder)\n",
        "  patha=os.path.join(path,folder)\n",
        "  for img in os.listdir(patha):\n",
        "    image=imread(os.path.join(patha,img))\n",
        "    img_resize=resize(image,output_shape=(50,50,3)) #resizing the image\n",
        "    img_flat.append(img_resize.flatten()) #converting it to 1-D array\n",
        "    target.append(index)\n",
        "img_flat=np.array(img_flat)\n",
        "target=np.array(target)"
      ],
      "execution_count": 64,
      "outputs": []
    },
    {
      "cell_type": "markdown",
      "metadata": {
        "id": "ZQDyQdDB_vvF"
      },
      "source": [
        "SPLITTING THE DATA INTO TRAINING AND TESTING"
      ]
    },
    {
      "cell_type": "code",
      "metadata": {
        "id": "NHkNoFvwFfwv"
      },
      "source": [
        "x_train,x_test,y_train,y_test=train_test_split(img_flat,target, test_size=0.3, random_state=16)"
      ],
      "execution_count": 74,
      "outputs": []
    },
    {
      "cell_type": "code",
      "metadata": {
        "colab": {
          "base_uri": "https://localhost:8080/"
        },
        "id": "wROwaPBxJcjv",
        "outputId": "41e42a01-b6f1-414e-a940-2e4a7145c31d"
      },
      "source": [
        "x_train.shape\n"
      ],
      "execution_count": 75,
      "outputs": [
        {
          "output_type": "execute_result",
          "data": {
            "text/plain": [
              "(110, 7500)"
            ]
          },
          "metadata": {
            "tags": []
          },
          "execution_count": 75
        }
      ]
    },
    {
      "cell_type": "markdown",
      "metadata": {
        "id": "Z57yAC5a_7aT"
      },
      "source": [
        "CREATING THE MODEL"
      ]
    },
    {
      "cell_type": "code",
      "metadata": {
        "id": "Lc9zsR-YJ1wW"
      },
      "source": [
        "from sklearn.svm import SVC\n",
        "from sklearn.model_selection import GridSearchCV\n",
        "\n",
        "model = SVC(gamma='scale', probability=True)\n",
        "parameter_grid = {'C':[1, 2, 3, 10, 100], 'kernel':['linear', 'rbf']}\n",
        "classifier = GridSearchCV(estimator=model, param_grid=parameter_grid,scoring='accuracy',cv=5,n_jobs=-1)"
      ],
      "execution_count": 76,
      "outputs": []
    },
    {
      "cell_type": "markdown",
      "metadata": {
        "id": "nD5o5oSi_-zw"
      },
      "source": [
        "FITTING THE MODEL"
      ]
    },
    {
      "cell_type": "code",
      "metadata": {
        "colab": {
          "base_uri": "https://localhost:8080/"
        },
        "id": "Ux9qypprJ_kW",
        "outputId": "a1dc5748-2ee2-4a25-b97d-f4b7c25a88e0"
      },
      "source": [
        "classifier.fit(x_train , y_train)"
      ],
      "execution_count": 77,
      "outputs": [
        {
          "output_type": "execute_result",
          "data": {
            "text/plain": [
              "GridSearchCV(cv=5, error_score=nan,\n",
              "             estimator=SVC(C=1.0, break_ties=False, cache_size=200,\n",
              "                           class_weight=None, coef0=0.0,\n",
              "                           decision_function_shape='ovr', degree=3,\n",
              "                           gamma='scale', kernel='rbf', max_iter=-1,\n",
              "                           probability=True, random_state=None, shrinking=True,\n",
              "                           tol=0.001, verbose=False),\n",
              "             iid='deprecated', n_jobs=-1,\n",
              "             param_grid={'C': [1, 2, 3, 10, 100], 'kernel': ['linear', 'rbf']},\n",
              "             pre_dispatch='2*n_jobs', refit=True, return_train_score=False,\n",
              "             scoring='accuracy', verbose=0)"
            ]
          },
          "metadata": {
            "tags": []
          },
          "execution_count": 77
        }
      ]
    },
    {
      "cell_type": "code",
      "metadata": {
        "colab": {
          "base_uri": "https://localhost:8080/"
        },
        "id": "UWseBLS8KGJ0",
        "outputId": "1c3f6cf8-dc7b-4af6-e211-7aef2f5c00e2"
      },
      "source": [
        "print(y_train[1])\n",
        "classifier.decision_function(x_train[0:2])"
      ],
      "execution_count": 78,
      "outputs": [
        {
          "output_type": "stream",
          "text": [
            "1\n"
          ],
          "name": "stdout"
        },
        {
          "output_type": "execute_result",
          "data": {
            "text/plain": [
              "array([[ 3.2577539 ,  1.93655052, -0.2125518 ,  0.80466614],\n",
              "       [-0.22894466,  3.25000186,  1.9285617 ,  0.88394647]])"
            ]
          },
          "metadata": {
            "tags": []
          },
          "execution_count": 78
        }
      ]
    },
    {
      "cell_type": "code",
      "metadata": {
        "colab": {
          "base_uri": "https://localhost:8080/"
        },
        "id": "8KJ9Pby4d5Cw",
        "outputId": "47c846b9-9e8f-4130-b67e-1eeda452c264"
      },
      "source": [
        "best_parameters = classifier.best_params_\n",
        "print(\"BEST_PARAMETERS:\",best_parameters)"
      ],
      "execution_count": 79,
      "outputs": [
        {
          "output_type": "stream",
          "text": [
            "BEST_PARAMETERS: {'C': 2, 'kernel': 'rbf'}\n"
          ],
          "name": "stdout"
        }
      ]
    },
    {
      "cell_type": "code",
      "metadata": {
        "colab": {
          "base_uri": "https://localhost:8080/"
        },
        "id": "8L6E3blxeMFS",
        "outputId": "065d8465-ef96-4c80-b12a-08a261d04daa"
      },
      "source": [
        "best_result = classifier.best_score_\n",
        "print(\"BEST_SCORE: \",best_result)"
      ],
      "execution_count": 80,
      "outputs": [
        {
          "output_type": "stream",
          "text": [
            "BEST_SCORE:  0.8545454545454547\n"
          ],
          "name": "stdout"
        }
      ]
    },
    {
      "cell_type": "markdown",
      "metadata": {
        "id": "g3qOWyF7AKF6"
      },
      "source": [
        "FINDING AND PLOTTING CONFUSION MATRIX AND\n",
        "FINDING THE ACCURACY"
      ]
    },
    {
      "cell_type": "code",
      "metadata": {
        "colab": {
          "base_uri": "https://localhost:8080/",
          "height": 531
        },
        "id": "apdY3nH1KXAW",
        "outputId": "d3c54530-543b-4804-d887-077c59973608"
      },
      "source": [
        "import seaborn as sb\n",
        "from sklearn.metrics import confusion_matrix\n",
        "y_pred = classifier.predict(x_test)\n",
        "cm = confusion_matrix(y_test, y_pred)\n",
        "plt.figure(figsize=(8,8))\n",
        "sb.heatmap(cm, annot=True, cmap=\"YlGnBu\",xticklabels=category, yticklabels=category)\n",
        "plt.title(\"CONFUSION MATRIX\")\n",
        "plt.xlabel(\"Predicted\")\n",
        "plt.ylabel(\"True_Values\")"
      ],
      "execution_count": 81,
      "outputs": [
        {
          "output_type": "execute_result",
          "data": {
            "text/plain": [
              "Text(50.09375, 0.5, 'True_Values')"
            ]
          },
          "metadata": {
            "tags": []
          },
          "execution_count": 81
        },
        {
          "output_type": "display_data",
          "data": {
            "image/png": "[encoded data removed]",
            "text/plain": [
              "<Figure size 576x576 with 2 Axes>"
            ]
          },
          "metadata": {
            "tags": [],
            "needs_background": "light"
          }
        }
      ]
    },
    {
      "cell_type": "code",
      "metadata": {
        "colab": {
          "base_uri": "https://localhost:8080/"
        },
        "id": "Gay2OlS1Kmtv",
        "outputId": "bf87264d-b72f-42e8-aebc-dac62f4df3d6"
      },
      "source": [
        "print('Accuracy : ',accuracy_score(y_test,y_pred)*100)"
      ],
      "execution_count": 82,
      "outputs": [
        {
          "output_type": "stream",
          "text": [
            "Accuracy :  89.58333333333334\n"
          ],
          "name": "stdout"
        }
      ]
    },
    {
      "cell_type": "markdown",
      "metadata": {
        "id": "MXkuUZoEAcwP"
      },
      "source": [
        "PREDICTION FOR NEW DATA"
      ]
    },
    {
      "cell_type": "code",
      "metadata": {
        "id": "RPi5IGzoMuts"
      },
      "source": [
        "flat=[]\n",
        "pred_path='/content/drive/MyDrive/minor/testing'\n",
        "actual=[]\n",
        "for y in os.listdir(pred_path):\n",
        "  pathb=os.path.join(pred_path,y)\n",
        "  image=imread(pathb)\n",
        "  y_resize=resize(image,output_shape=(50,50,3))\n",
        "  flat.append(y_resize.flatten())\n",
        "  actual.append(y)\n"
      ],
      "execution_count": 83,
      "outputs": []
    },
    {
      "cell_type": "markdown",
      "metadata": {
        "id": "yUT_c4sJBKYj"
      },
      "source": [
        "FINDING THE PROBABILITY\n"
      ]
    },
    {
      "cell_type": "code",
      "metadata": {
        "colab": {
          "base_uri": "https://localhost:8080/"
        },
        "id": "qeVShQSJM7Ny",
        "outputId": "d00a6b4e-5019-4bf2-a88d-d7f1c938739e"
      },
      "source": [
        "print(category)\n",
        "pred=classifier.predict(flat)\n",
        "print(classifier.decision_function(flat))"
      ],
      "execution_count": 84,
      "outputs": [
        {
          "output_type": "stream",
          "text": [
            "['hair_dryer', 'iron_box', 'mixer_grinder', 'refrigerator']\n",
            "[[ 0.8547609   2.17322549  3.21945029 -0.23034932]\n",
            " [ 3.22643513  0.92873652  2.00704694 -0.21710441]\n",
            " [ 0.86842115  1.81694749 -0.19348515  3.25497165]\n",
            " [ 3.16314154 -0.16536263  2.04065338  0.96615699]\n",
            " [-0.17826681  3.15409743  2.06997365  1.00786735]\n",
            " [-0.17480262  3.18029911  2.03140387  0.94926492]\n",
            " [ 3.2453873   1.90234961  0.84666633 -0.2012688 ]\n",
            " [-0.23511824  3.25678801  2.02543018  0.82979361]\n",
            " [-0.11823202  3.19724727  1.89481097  0.8983558 ]\n",
            " [ 0.84097966  3.23371892  1.96650498 -0.18979479]\n",
            " [-0.20279348  2.12418361  3.22439469  0.8253906 ]\n",
            " [ 2.04576149  3.16553182  0.94594102 -0.16257138]\n",
            " [ 3.16388206 -0.14927279  2.10282561  0.8747115 ]\n",
            " [ 2.15363219  3.14951272  1.05069806 -0.21627858]\n",
            " [-0.20717862  2.17792201  3.19372118  0.84301911]\n",
            " [-0.20080838  1.86022813  3.24528998  0.88190675]\n",
            " [-0.24265698  0.85958064  3.26345418  1.91065672]\n",
            " [-0.20360772  0.8740112   3.2218713   2.05241899]\n",
            " [ 2.08079926  0.83677465 -0.21007047  3.23364735]\n",
            " [-0.18400213  3.18442117  2.006827    0.99117639]]\n"
          ],
          "name": "stdout"
        }
      ]
    },
    {
      "cell_type": "code",
      "metadata": {
        "colab": {
          "base_uri": "https://localhost:8080/",
          "height": 669
        },
        "id": "RBH_FP0_NIt-",
        "outputId": "1c8c4ca9-2524-4bed-accc-57e4f8fb05e2"
      },
      "source": [
        "df=pd.DataFrame({'Actual_item':actual,'Predicted_item':pred})\n",
        "df['Predicted_item'].replace({0:'hair_dryer',1:'iron_box',2:'mixer_grinder',3:'refrigerator'},inplace=True)\n",
        "df"
      ],
      "execution_count": 86,
      "outputs": [
        {
          "output_type": "execute_result",
          "data": {
            "text/html": [
              "<div>\n",
              "<style scoped>\n",
              "    .dataframe tbody tr th:only-of-type {\n",
              "        vertical-align: middle;\n",
              "    }\n",
              "\n",
              "    .dataframe tbody tr th {\n",
              "        vertical-align: top;\n",
              "    }\n",
              "\n",
              "    .dataframe thead th {\n",
              "        text-align: right;\n",
              "    }\n",
              "</style>\n",
              "<table border=\"1\" class=\"dataframe\">\n",
              "  <thead>\n",
              "    <tr style=\"text-align: right;\">\n",
              "      <th></th>\n",
              "      <th>Actual_item</th>\n",
              "      <th>Predicted_item</th>\n",
              "    </tr>\n",
              "  </thead>\n",
              "  <tbody>\n",
              "    <tr>\n",
              "      <th>0</th>\n",
              "      <td>sib3.jpeg</td>\n",
              "      <td>mixer_grinder</td>\n",
              "    </tr>\n",
              "    <tr>\n",
              "      <th>1</th>\n",
              "      <td>bhd1.jpeg</td>\n",
              "      <td>hair_dryer</td>\n",
              "    </tr>\n",
              "    <tr>\n",
              "      <th>2</th>\n",
              "      <td>f3.jpeg</td>\n",
              "      <td>refrigerator</td>\n",
              "    </tr>\n",
              "    <tr>\n",
              "      <th>3</th>\n",
              "      <td>bhd4.jpeg</td>\n",
              "      <td>hair_dryer</td>\n",
              "    </tr>\n",
              "    <tr>\n",
              "      <th>4</th>\n",
              "      <td>f4.jpeg</td>\n",
              "      <td>iron_box</td>\n",
              "    </tr>\n",
              "    <tr>\n",
              "      <th>5</th>\n",
              "      <td>sib2.jpeg</td>\n",
              "      <td>iron_box</td>\n",
              "    </tr>\n",
              "    <tr>\n",
              "      <th>6</th>\n",
              "      <td>bhd5.jpeg</td>\n",
              "      <td>hair_dryer</td>\n",
              "    </tr>\n",
              "    <tr>\n",
              "      <th>7</th>\n",
              "      <td>sib1.jpeg</td>\n",
              "      <td>iron_box</td>\n",
              "    </tr>\n",
              "    <tr>\n",
              "      <th>8</th>\n",
              "      <td>f5.jpeg</td>\n",
              "      <td>iron_box</td>\n",
              "    </tr>\n",
              "    <tr>\n",
              "      <th>9</th>\n",
              "      <td>sib.jpeg</td>\n",
              "      <td>iron_box</td>\n",
              "    </tr>\n",
              "    <tr>\n",
              "      <th>10</th>\n",
              "      <td>mg1.jpeg</td>\n",
              "      <td>mixer_grinder</td>\n",
              "    </tr>\n",
              "    <tr>\n",
              "      <th>11</th>\n",
              "      <td>bhd2.jpeg</td>\n",
              "      <td>iron_box</td>\n",
              "    </tr>\n",
              "    <tr>\n",
              "      <th>12</th>\n",
              "      <td>bhd3.jpeg</td>\n",
              "      <td>hair_dryer</td>\n",
              "    </tr>\n",
              "    <tr>\n",
              "      <th>13</th>\n",
              "      <td>sib4.jpeg</td>\n",
              "      <td>iron_box</td>\n",
              "    </tr>\n",
              "    <tr>\n",
              "      <th>14</th>\n",
              "      <td>mg2.jpeg</td>\n",
              "      <td>mixer_grinder</td>\n",
              "    </tr>\n",
              "    <tr>\n",
              "      <th>15</th>\n",
              "      <td>mg3.jpeg</td>\n",
              "      <td>mixer_grinder</td>\n",
              "    </tr>\n",
              "    <tr>\n",
              "      <th>16</th>\n",
              "      <td>mg4.jpeg</td>\n",
              "      <td>mixer_grinder</td>\n",
              "    </tr>\n",
              "    <tr>\n",
              "      <th>17</th>\n",
              "      <td>mg5.jpeg</td>\n",
              "      <td>mixer_grinder</td>\n",
              "    </tr>\n",
              "    <tr>\n",
              "      <th>18</th>\n",
              "      <td>f1.jpeg</td>\n",
              "      <td>refrigerator</td>\n",
              "    </tr>\n",
              "    <tr>\n",
              "      <th>19</th>\n",
              "      <td>f2.jpeg</td>\n",
              "      <td>iron_box</td>\n",
              "    </tr>\n",
              "  </tbody>\n",
              "</table>\n",
              "</div>"
            ],
            "text/plain": [
              "   Actual_item Predicted_item\n",
              "0    sib3.jpeg  mixer_grinder\n",
              "1    bhd1.jpeg     hair_dryer\n",
              "2      f3.jpeg   refrigerator\n",
              "3    bhd4.jpeg     hair_dryer\n",
              "4      f4.jpeg       iron_box\n",
              "5    sib2.jpeg       iron_box\n",
              "6    bhd5.jpeg     hair_dryer\n",
              "7    sib1.jpeg       iron_box\n",
              "8      f5.jpeg       iron_box\n",
              "9     sib.jpeg       iron_box\n",
              "10    mg1.jpeg  mixer_grinder\n",
              "11   bhd2.jpeg       iron_box\n",
              "12   bhd3.jpeg     hair_dryer\n",
              "13   sib4.jpeg       iron_box\n",
              "14    mg2.jpeg  mixer_grinder\n",
              "15    mg3.jpeg  mixer_grinder\n",
              "16    mg4.jpeg  mixer_grinder\n",
              "17    mg5.jpeg  mixer_grinder\n",
              "18     f1.jpeg   refrigerator\n",
              "19     f2.jpeg       iron_box"
            ]
          },
          "metadata": {
            "tags": []
          },
          "execution_count": 86
        }
      ]
    }
  ]
}